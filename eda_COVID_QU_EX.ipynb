{
 "cells": [
  {
   "cell_type": "code",
   "execution_count": 28,
   "metadata": {},
   "outputs": [],
   "source": [
    "import pandas as pd\n",
    "import numpy as np\n",
    "import matplotlib.pyplot as plt\n",
    "import os\n",
    "import csv"
   ]
  },
  {
   "cell_type": "code",
   "execution_count": 2,
   "metadata": {},
   "outputs": [],
   "source": [
    "data_dir = './COVID_QU_Ex/'\n",
    "lung_data = 'Lung Segmentation Data/Lung Segmentation Data/'\n",
    "infection_dir = 'Infection Segmentation Data/Infection Segmentation Data/'"
   ]
  },
  {
   "cell_type": "code",
   "execution_count": 31,
   "metadata": {},
   "outputs": [
    {
     "name": "stdout",
     "output_type": "stream",
     "text": [
      "21715\n"
     ]
    }
   ],
   "source": [
    "# tao dict với key = file_name, value = label\n",
    "label = os.listdir(data_dir+lung_data+'Train')\n",
    "dict_img = {}\n",
    "for lbl in label:\n",
    "    # print(lbl)\n",
    "    for file_name in os.listdir(data_dir+lung_data+'Train/' +lbl +'/images'):\n",
    "        # print(file_name)\n",
    "        dict_img[file_name]=lbl\n",
    "\n",
    "        \n",
    "dict_img\n",
    "print(len(dict_img))"
   ]
  },
  {
   "cell_type": "code",
   "execution_count": 38,
   "metadata": {},
   "outputs": [],
   "source": [
    "label = os.listdir(data_dir+lung_data+'Train')\n",
    "i = 0\n",
    "for lbl in label:\n",
    "    list_file_name = os.listdir(data_dir+lung_data+'Train/' +lbl +'/images')\n",
    "    img_label_list = [(file_name,lbl) for file_name in list_file_name]\n",
    "df = pd.DataFrame(img_label_list,columns=['File_name', 'Labels'])\n",
    "# print(df)\n",
    "\n",
    "    "
   ]
  },
  {
   "cell_type": "code",
   "execution_count": 43,
   "metadata": {},
   "outputs": [],
   "source": [
    "# ghi file csv\n",
    "def write_csv(folder, file):\n",
    "  label = os.listdir(folder)\n",
    "  with open(file, mode='w') as f:\n",
    "    for lbl in label:\n",
    "        list_file_name = os.listdir(folder + lbl +'/images')\n",
    "        for file_name in list_file_name:\n",
    "          wr = csv.writer(f)\n",
    "          wr.writerow([file_name, lbl])\n",
    "      # img_label_list = [(file_name,lbl)]\n",
    "\n",
    "write_csv(data_dir + lung_data + 'Train/', data_dir + lung_data + 'train.csv')\n",
    "write_csv(data_dir + lung_data + 'Test/', data_dir + lung_data + 'test.csv')\n",
    "write_csv(data_dir + lung_data + 'Val/', data_dir + lung_data + 'val.csv')"
   ]
  },
  {
   "cell_type": "code",
   "execution_count": 44,
   "metadata": {},
   "outputs": [],
   "source": [
    "# đọc file csv bằng pnadas\n",
    "def readfile(path_file) :\n",
    "    df = pd.read_csv(path_file, header=None)\n",
    "    df.columns= ['file_name','label'] # Gắn tên cột\n",
    "    return df\n",
    "    \n",
    "test_df = readfile(data_dir+lung_data+'test.csv')\n",
    "val_df = readfile(data_dir+lung_data+'val.csv')\n",
    "train_df = readfile(data_dir+lung_data+'train.csv')"
   ]
  },
  {
   "cell_type": "code",
   "execution_count": 46,
   "metadata": {},
   "outputs": [
    {
     "data": {
      "text/html": [
       "<div>\n",
       "<style scoped>\n",
       "    .dataframe tbody tr th:only-of-type {\n",
       "        vertical-align: middle;\n",
       "    }\n",
       "\n",
       "    .dataframe tbody tr th {\n",
       "        vertical-align: top;\n",
       "    }\n",
       "\n",
       "    .dataframe thead th {\n",
       "        text-align: right;\n",
       "    }\n",
       "</style>\n",
       "<table border=\"1\" class=\"dataframe\">\n",
       "  <thead>\n",
       "    <tr style=\"text-align: right;\">\n",
       "      <th></th>\n",
       "      <th>file_name</th>\n",
       "      <th>label</th>\n",
       "    </tr>\n",
       "  </thead>\n",
       "  <tbody>\n",
       "    <tr>\n",
       "      <th>0</th>\n",
       "      <td>covid_10.png</td>\n",
       "      <td>COVID-19</td>\n",
       "    </tr>\n",
       "    <tr>\n",
       "      <th>1</th>\n",
       "      <td>covid_1003.png</td>\n",
       "      <td>COVID-19</td>\n",
       "    </tr>\n",
       "    <tr>\n",
       "      <th>2</th>\n",
       "      <td>covid_1004.png</td>\n",
       "      <td>COVID-19</td>\n",
       "    </tr>\n",
       "    <tr>\n",
       "      <th>3</th>\n",
       "      <td>covid_1005.png</td>\n",
       "      <td>COVID-19</td>\n",
       "    </tr>\n",
       "    <tr>\n",
       "      <th>4</th>\n",
       "      <td>covid_1017.png</td>\n",
       "      <td>COVID-19</td>\n",
       "    </tr>\n",
       "    <tr>\n",
       "      <th>...</th>\n",
       "      <td>...</td>\n",
       "      <td>...</td>\n",
       "    </tr>\n",
       "    <tr>\n",
       "      <th>6783</th>\n",
       "      <td>Normal (9768).png</td>\n",
       "      <td>Normal</td>\n",
       "    </tr>\n",
       "    <tr>\n",
       "      <th>6784</th>\n",
       "      <td>Normal (9769).png</td>\n",
       "      <td>Normal</td>\n",
       "    </tr>\n",
       "    <tr>\n",
       "      <th>6785</th>\n",
       "      <td>Normal (9770).png</td>\n",
       "      <td>Normal</td>\n",
       "    </tr>\n",
       "    <tr>\n",
       "      <th>6786</th>\n",
       "      <td>Normal (98).png</td>\n",
       "      <td>Normal</td>\n",
       "    </tr>\n",
       "    <tr>\n",
       "      <th>6787</th>\n",
       "      <td>Normal (99).png</td>\n",
       "      <td>Normal</td>\n",
       "    </tr>\n",
       "  </tbody>\n",
       "</table>\n",
       "<p>6788 rows × 2 columns</p>\n",
       "</div>"
      ],
      "text/plain": [
       "              file_name     label\n",
       "0          covid_10.png  COVID-19\n",
       "1        covid_1003.png  COVID-19\n",
       "2        covid_1004.png  COVID-19\n",
       "3        covid_1005.png  COVID-19\n",
       "4        covid_1017.png  COVID-19\n",
       "...                 ...       ...\n",
       "6783  Normal (9768).png    Normal\n",
       "6784  Normal (9769).png    Normal\n",
       "6785  Normal (9770).png    Normal\n",
       "6786    Normal (98).png    Normal\n",
       "6787    Normal (99).png    Normal\n",
       "\n",
       "[6788 rows x 2 columns]"
      ]
     },
     "execution_count": 46,
     "metadata": {},
     "output_type": "execute_result"
    }
   ],
   "source": [
    "test_df"
   ]
  }
 ],
 "metadata": {
  "interpreter": {
   "hash": "f526d3ea121a389ceedc81414f847f710ab34eaa616dd9262259568a1023dc4b"
  },
  "kernelspec": {
   "display_name": "Python 3.7.6 ('me')",
   "language": "python",
   "name": "python3"
  },
  "language_info": {
   "codemirror_mode": {
    "name": "ipython",
    "version": 3
   },
   "file_extension": ".py",
   "mimetype": "text/x-python",
   "name": "python",
   "nbconvert_exporter": "python",
   "pygments_lexer": "ipython3",
   "version": "3.7.6"
  },
  "orig_nbformat": 4
 },
 "nbformat": 4,
 "nbformat_minor": 2
}
